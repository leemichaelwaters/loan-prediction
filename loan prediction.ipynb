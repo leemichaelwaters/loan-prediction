{
 "cells": [
  {
   "cell_type": "code",
   "execution_count": 1,
   "id": "7a5ad6d7-35ba-4f9e-98c0-cca5750595df",
   "metadata": {},
   "outputs": [
    {
     "name": "stdout",
     "output_type": "stream",
     "text": [
      "C:\\Users\\lee\n",
      "C:\\Users\\lee\\practice problems\\loan prediction\n"
     ]
    }
   ],
   "source": [
    "import os\n",
    "\n",
    "print(os.getcwd())\n",
    "os.chdir('C:\\\\Users\\\\lee\\\\practice problems\\\\loan prediction')\n",
    "print(os.getcwd())"
   ]
  },
  {
   "cell_type": "code",
   "execution_count": 2,
   "id": "bbdb7190-2fb0-43dd-8eb5-2f432c99e5af",
   "metadata": {},
   "outputs": [],
   "source": [
    "import pandas as pd\n",
    "\n",
    "train = pd.read_csv('train.csv')\n",
    "test = pd.read_csv('test.csv')\n",
    "train = train.drop('Loan_ID', axis=1)"
   ]
  },
  {
   "cell_type": "code",
   "execution_count": 14,
   "id": "baf8c16e-e7ad-449b-8371-8f4726b90f30",
   "metadata": {},
   "outputs": [
    {
     "name": "stdout",
     "output_type": "stream",
     "text": [
      "Data types:\n",
      "Gender                object\n",
      "Married               object\n",
      "Dependents            object\n",
      "Education             object\n",
      "Self_Employed         object\n",
      "ApplicantIncome        int64\n",
      "CoapplicantIncome    float64\n",
      "LoanAmount           float64\n",
      "Loan_Amount_Term     float64\n",
      "Credit_History       float64\n",
      "Property_Area         object\n",
      "Loan_Status           object\n",
      "dtype: object\n",
      "\n",
      "Rows and columns:\n",
      "(614, 12)\n",
      "\n",
      "Column names:\n",
      "Index(['Gender', 'Married', 'Dependents', 'Education', 'Self_Employed',\n",
      "       'ApplicantIncome', 'CoapplicantIncome', 'LoanAmount',\n",
      "       'Loan_Amount_Term', 'Credit_History', 'Property_Area', 'Loan_Status'],\n",
      "      dtype='object')\n",
      "\n",
      "Null values:\n",
      "Gender               0.021173\n",
      "Married              0.004886\n",
      "Dependents           0.024430\n",
      "Education            0.000000\n",
      "Self_Employed        0.052117\n",
      "ApplicantIncome      0.000000\n",
      "CoapplicantIncome    0.000000\n",
      "LoanAmount           0.035831\n",
      "Loan_Amount_Term     0.022801\n",
      "Credit_History       0.081433\n",
      "Property_Area        0.000000\n",
      "Loan_Status          0.000000\n",
      "dtype: float64\n"
     ]
    }
   ],
   "source": [
    "def describe_data(df):\n",
    "    \n",
    "    print('Data types:')\n",
    "    print(df.dtypes)\n",
    "\n",
    "    print()\n",
    "    \n",
    "    print('Rows and columns:')\n",
    "    print(df.shape)\n",
    "    \n",
    "    print()\n",
    "    \n",
    "    print('Column names:')\n",
    "    print(df.columns)\n",
    "    \n",
    "    print()\n",
    "    \n",
    "    print('Null values:')\n",
    "    print(df.apply(lambda x: sum(x.isnull()) / len(df)))\n",
    "\n",
    "describe_data(train)"
   ]
  },
  {
   "cell_type": "code",
   "execution_count": 17,
   "id": "33c1f056-74ff-4c80-b9b7-81c41f809b25",
   "metadata": {},
   "outputs": [],
   "source": [
    "numeric_features = train.select_dtypes(include=['int64', 'float64']).columns\n",
    "categorical_features = train.select_dtypes(include=['object']).drop(['Loan_Status'], axis=1).columns"
   ]
  },
  {
   "cell_type": "code",
   "execution_count": 22,
   "id": "264e76b0-2a3f-4e57-b98b-ea9904c5a700",
   "metadata": {},
   "outputs": [],
   "source": [
    "from sklearn.impute import SimpleImputer\n",
    "from sklearn.preprocessing import StandardScaler, OneHotEncoder\n",
    "from sklearn.pipeline import Pipeline\n",
    "\n",
    "numeric_transformer = Pipeline(steps=[\n",
    "    ('imputer', SimpleImputer(strategy='median')),\n",
    "    ('scaler', StandardScaler())\n",
    "])\n",
    "\n",
    "categorical_transformer = Pipeline(steps=[\n",
    "    ('imputer', SimpleImputer(strategy='constant', fill_value='missing')),\n",
    "    ('onehot', OneHotEncoder(handle_unknown='ignore'))\n",
    "])"
   ]
  },
  {
   "cell_type": "code",
   "execution_count": 23,
   "id": "34168f05-f68f-4b2f-aa3d-e31f8e2e3cee",
   "metadata": {},
   "outputs": [],
   "source": [
    "from sklearn.compose import ColumnTransformer\n",
    "\n",
    "preprocessor = ColumnTransformer(transformers=[\n",
    "    ('num', numeric_transformer, numeric_features),\n",
    "    ('cat', categorical_transformer, categorical_features)\n",
    "])"
   ]
  },
  {
   "cell_type": "code",
   "execution_count": 24,
   "id": "66e73700-0455-4739-9489-0d7be62eed60",
   "metadata": {},
   "outputs": [],
   "source": [
    "from sklearn.model_selection import train_test_split\n",
    "X = train.drop('Loan_Status', axis=1)\n",
    "y = train['Loan_Status']\n",
    "\n",
    "X_train, X_test, y_train, y_test = train_test_split(X, y, test_size=0.2)"
   ]
  },
  {
   "cell_type": "code",
   "execution_count": 27,
   "id": "62cd89f0-438b-47ef-a74b-6d04c2df8011",
   "metadata": {},
   "outputs": [],
   "source": [
    "from sklearn.linear_model import LogisticRegression\n",
    "\n",
    "lr = Pipeline(steps=[\n",
    "    ('preprocessor', preprocessor),\n",
    "    ('classifier', LogisticRegression())\n",
    "])"
   ]
  },
  {
   "cell_type": "code",
   "execution_count": 28,
   "id": "4568c20b-a209-4677-bd55-b40463793943",
   "metadata": {},
   "outputs": [
    {
     "name": "stdout",
     "output_type": "stream",
     "text": [
      "Model score: 0.805\n"
     ]
    }
   ],
   "source": [
    "lr.fit(X_train, y_train)\n",
    "print(\"Model score: %.3f\" % lr.score(X_test, y_test))"
   ]
  },
  {
   "cell_type": "code",
   "execution_count": 29,
   "id": "5ce6101e-991e-4171-b136-c4d843dee4b9",
   "metadata": {},
   "outputs": [],
   "source": [
    "test_no_id = test.drop(\"Loan_ID\", axis=1)"
   ]
  },
  {
   "cell_type": "code",
   "execution_count": 30,
   "id": "4059d974-6426-409e-ad08-8c87d14ae8ac",
   "metadata": {},
   "outputs": [],
   "source": [
    "test_predictions = lr.predict(test_no_id)"
   ]
  },
  {
   "cell_type": "code",
   "execution_count": 35,
   "id": "07a5849b-2b33-4629-8c1e-4b101b54fe20",
   "metadata": {},
   "outputs": [],
   "source": [
    "Loan_ID = test['Loan_ID']\n",
    "submission_df_1 = pd.DataFrame({\n",
    "    \"Loan_ID\": Loan_ID,\n",
    "    \"Loan_Status\": test_predictions\n",
    "})"
   ]
  },
  {
   "cell_type": "code",
   "execution_count": 37,
   "id": "6fdadaeb-6dfe-430c-b4dc-5b7ec144a75a",
   "metadata": {},
   "outputs": [],
   "source": [
    "submission_df_1.to_csv('submission_1.csv', index=False)"
   ]
  }
 ],
 "metadata": {
  "kernelspec": {
   "display_name": "Python 3",
   "language": "python",
   "name": "python3"
  },
  "language_info": {
   "codemirror_mode": {
    "name": "ipython",
    "version": 3
   },
   "file_extension": ".py",
   "mimetype": "text/x-python",
   "name": "python",
   "nbconvert_exporter": "python",
   "pygments_lexer": "ipython3",
   "version": "3.8.8"
  }
 },
 "nbformat": 4,
 "nbformat_minor": 5
}
